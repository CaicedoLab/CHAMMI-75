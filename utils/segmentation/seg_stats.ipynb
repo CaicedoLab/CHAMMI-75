{
 "cells": [
  {
   "cell_type": "code",
   "execution_count": 33,
   "id": "eb84a44a",
   "metadata": {},
   "outputs": [],
   "source": [
    "from safetensors.torch import load\n",
    "import os\n",
    "import zipfile\n",
    "from collections import defaultdict\n",
    "import polars as pl"
   ]
  },
  {
   "cell_type": "code",
   "execution_count": 6,
   "id": "a3d5e4ff",
   "metadata": {},
   "outputs": [],
   "source": [
    "crops_path = os.path.expanduser('~/jpeters/75ds_small_seg.zip')\n",
    "crops = zipfile.ZipFile(crops_path)"
   ]
  },
  {
   "cell_type": "code",
   "execution_count": 8,
   "id": "badac07b",
   "metadata": {},
   "outputs": [],
   "source": [
    "image_names = [file for file in crops.filelist if not file.is_dir()]"
   ]
  },
  {
   "cell_type": "markdown",
   "id": "843fff87",
   "metadata": {},
   "source": [
    "# Total cells per study"
   ]
  },
  {
   "cell_type": "code",
   "execution_count": 30,
   "id": "c620fcc1",
   "metadata": {},
   "outputs": [],
   "source": [
    "study_counts = defaultdict(int)\n",
    "for file_obj in image_names:\n",
    "    centroids = load(crops.read(file_obj))['data']\n",
    "    study = file_obj.filename.split('/')[1]\n",
    "    study_counts[study] += len(centroids) "
   ]
  },
  {
   "cell_type": "code",
   "execution_count": 34,
   "id": "2c4821e6",
   "metadata": {},
   "outputs": [],
   "source": [
    "counts_df = pl.from_dict({'study': list(study_counts.keys()), 'counts': list(study_counts.values())})"
   ]
  },
  {
   "cell_type": "code",
   "execution_count": 37,
   "id": "ccf6b3a8",
   "metadata": {},
   "outputs": [],
   "source": [
    "counts_df.write_csv('./cell_counts.csv')"
   ]
  },
  {
   "cell_type": "code",
   "execution_count": 45,
   "id": "9603beab",
   "metadata": {},
   "outputs": [
    {
     "data": {
      "text/plain": [
       "'322,906,863'"
      ]
     },
     "execution_count": 45,
     "metadata": {},
     "output_type": "execute_result"
    }
   ],
   "source": [
    "f'{counts_df[\"counts\"].sum():,}'"
   ]
  }
 ],
 "metadata": {
  "kernelspec": {
   "display_name": "weakly-supervised",
   "language": "python",
   "name": "python3"
  },
  "language_info": {
   "codemirror_mode": {
    "name": "ipython",
    "version": 3
   },
   "file_extension": ".py",
   "mimetype": "text/x-python",
   "name": "python",
   "nbconvert_exporter": "python",
   "pygments_lexer": "ipython3",
   "version": "3.11.9"
  }
 },
 "nbformat": 4,
 "nbformat_minor": 5
}
