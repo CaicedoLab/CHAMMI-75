{
 "cells": [
  {
   "cell_type": "code",
   "execution_count": 1,
   "metadata": {},
   "outputs": [],
   "source": [
    "# my_list = [\n",
    "#     \"idr0001\", \"idr0007\", \"idr0012\", \"idr0025\", \"idr0037\", \"idr0081\", \"idr0094\", \"idr0129\", \"nidr0001\", \"nidr0006\", \"nidr0011\", \"nidr0016\", \"nidr0021\", \"nidr0026\", \"nidr0031\",\n",
    "#     \"idr0002\", \"idr0008\", \"idr0013\", \"idr0028\", \"idr0056\", \"idr0086\", \"idr0115\", \"idr0130\", \"nidr0002\", \"nidr0007\", \"nidr0012\", \"nidr0017\", \"nidr0022\", \"nidr0027\", \"nidr0032\",\n",
    "#     \"idr0003\", \"idr0009\", \"idr0017\", \"idr0030\", \"idr0069\", \"idr0088\", \"idr0120\", \"idr0133\", \"nidr0003\", \"nidr0008\", \"nidr0013\", \"nidr0018\", \"nidr0023\", \"nidr0028\",\n",
    "#     \"idr0005\", \"idr0010\", \"idr0020\", \"idr0033\", \"idr0072\", \"idr0089\", \"idr0123\", \"idr0140\", \"nidr0004\", \"nidr0009\", \"nidr0014\", \"nidr0019\", \"nidr0024\", \"nidr0029\",\n",
    "#     \"idr0006\", \"idr0011\", \"idr0022\", \"idr0035\", \"idr0080\", \"idr0093\", \"idr0128\", \"idr0145\", \"nidr0005\", \"nidr0010\", \"nidr0015\", \"nidr0020\", \"nidr0025\", \"nidr0030\"\n",
    "# ]\n",
    "\n",
    "\n",
    "# for idr in sorted(my_list):\n",
    "#     print(f\"./generate_tile_hists.py -d /mnt/cephfs/mir/jcaicedo/morphem/dataset/images/{idr}/ -o ~/jpeters/histograms/\")"
   ]
  },
  {
   "cell_type": "code",
   "execution_count": 2,
   "metadata": {},
   "outputs": [
    {
     "data": {
      "text/html": [
       "<div><style>\n",
       ".dataframe > thead > tr,\n",
       ".dataframe > tbody > tr {\n",
       "  text-align: right;\n",
       "  white-space: pre-wrap;\n",
       "}\n",
       "</style>\n",
       "<small>shape: (5, 8)</small><table border=\"1\" class=\"dataframe\"><thead><tr><th>study</th><th>plate</th><th>keywords</th><th>keyword_type</th><th>value_type</th><th>threshold</th><th>direction</th><th>threshold_type</th></tr><tr><td>str</td><td>str</td><td>str</td><td>str</td><td>str</td><td>i64</td><td>str</td><td>str</td></tr></thead><tbody><tr><td>&quot;idr1&quot;</td><td>&quot;all&quot;</td><td>null</td><td>null</td><td>&quot;pc&quot;</td><td>10</td><td>&quot;top&quot;</td><td>&quot;%&quot;</td></tr><tr><td>&quot;idr2&quot;</td><td>&quot;all&quot;</td><td>null</td><td>null</td><td>&quot;live&quot;</td><td>15</td><td>&quot;top&quot;</td><td>&quot;%&quot;</td></tr><tr><td>&quot;idr3&quot;</td><td>&quot;all&quot;</td><td>null</td><td>null</td><td>&quot;pc&quot;</td><td>20</td><td>&quot;top&quot;</td><td>&quot;%&quot;</td></tr><tr><td>&quot;idr5&quot;</td><td>&quot;all&quot;</td><td>null</td><td>null</td><td>&quot;pc&quot;</td><td>20</td><td>&quot;top&quot;</td><td>&quot;%&quot;</td></tr><tr><td>&quot;idr6&quot;</td><td>&quot;all&quot;</td><td>null</td><td>null</td><td>&quot;live&quot;</td><td>10</td><td>&quot;top&quot;</td><td>&quot;%&quot;</td></tr></tbody></table></div>"
      ],
      "text/plain": [
       "shape: (5, 8)\n",
       "┌───────┬───────┬──────────┬──────────────┬────────────┬───────────┬───────────┬────────────────┐\n",
       "│ study ┆ plate ┆ keywords ┆ keyword_type ┆ value_type ┆ threshold ┆ direction ┆ threshold_type │\n",
       "│ ---   ┆ ---   ┆ ---      ┆ ---          ┆ ---        ┆ ---       ┆ ---       ┆ ---            │\n",
       "│ str   ┆ str   ┆ str      ┆ str          ┆ str        ┆ i64       ┆ str       ┆ str            │\n",
       "╞═══════╪═══════╪══════════╪══════════════╪════════════╪═══════════╪═══════════╪════════════════╡\n",
       "│ idr1  ┆ all   ┆ null     ┆ null         ┆ pc         ┆ 10        ┆ top       ┆ %              │\n",
       "│ idr2  ┆ all   ┆ null     ┆ null         ┆ live       ┆ 15        ┆ top       ┆ %              │\n",
       "│ idr3  ┆ all   ┆ null     ┆ null         ┆ pc         ┆ 20        ┆ top       ┆ %              │\n",
       "│ idr5  ┆ all   ┆ null     ┆ null         ┆ pc         ┆ 20        ┆ top       ┆ %              │\n",
       "│ idr6  ┆ all   ┆ null     ┆ null         ┆ live       ┆ 10        ┆ top       ┆ %              │\n",
       "└───────┴───────┴──────────┴──────────────┴────────────┴───────────┴───────────┴────────────────┘"
      ]
     },
     "execution_count": 2,
     "metadata": {},
     "output_type": "execute_result"
    }
   ],
   "source": [
    "import polars as pl\n",
    "import json\n",
    "from collections import defaultdict\n",
    "csv = pl.read_csv('./thresholds.csv', has_header=True) \n",
    "csv.head()"
   ]
  },
  {
   "cell_type": "code",
   "execution_count": 3,
   "metadata": {},
   "outputs": [],
   "source": [
    "\n",
    "as_json = defaultdict(dict)\n",
    "for study, plate, keywords, keyword_type, value_type, thresh, direction, thresh_type in csv.iter_rows():\n",
    "    study_split = study.split('r')\n",
    "    places_to_add = 4 - len(study_split[1])\n",
    "    study_correct = study_split[0] + \"r\" + \"0\"*places_to_add + study_split[1]\n",
    "\n",
    "    if not keywords:\n",
    "        keywords = \"default\"\n",
    "    \n",
    "    if plate not in as_json[study_correct]: as_json[study_correct][plate] = {}\n",
    "    \n",
    "    as_json[study_correct][plate][keywords] = {\n",
    "                \"keyword_type\": keyword_type,\n",
    "                \"value_type\": value_type,\n",
    "                \"threshold\": int(thresh),\n",
    "                \"threshold_type\": thresh_type,\n",
    "                \"direction\": direction\n",
    "    }    \n",
    "\n",
    "with open('./thresholds.json', 'w') as f:\n",
    "    f.write(json.dumps(as_json, indent=2))"
   ]
  },
  {
   "cell_type": "code",
   "execution_count": 4,
   "metadata": {},
   "outputs": [],
   "source": [
    "with open('./thresholds.json', 'r') as f:\n",
    "    json_loaded = json.loads(f.read())"
   ]
  }
 ],
 "metadata": {
  "kernelspec": {
   "display_name": "Python 3",
   "language": "python",
   "name": "python3"
  },
  "language_info": {
   "codemirror_mode": {
    "name": "ipython",
    "version": 3
   },
   "file_extension": ".py",
   "mimetype": "text/x-python",
   "name": "python",
   "nbconvert_exporter": "python",
   "pygments_lexer": "ipython3",
   "version": "3.10.15"
  }
 },
 "nbformat": 4,
 "nbformat_minor": 2
}
