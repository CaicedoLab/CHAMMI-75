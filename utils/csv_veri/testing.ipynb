{
 "cells": [
  {
   "cell_type": "code",
   "execution_count": 1,
   "metadata": {},
   "outputs": [],
   "source": [
    "import os"
   ]
  },
  {
   "cell_type": "code",
   "execution_count": 5,
   "metadata": {},
   "outputs": [],
   "source": [
    "dataset_zips = '~/list_of_files.txt'\n",
    "with open(os.path.expanduser(dataset_zips), 'r') as f:\n",
    "    files = f.readlines()\n",
    "images = [file.strip() for file in files if file.strip().endswith('.png')]"
   ]
  },
  {
   "cell_type": "code",
   "execution_count": 22,
   "metadata": {},
   "outputs": [
    {
     "name": "stdout",
     "output_type": "stream",
     "text": [
      "4826\n"
     ]
    }
   ],
   "source": [
    "zips = [image.split('/')[-2] + \".zip\" for image in images if 'idr' in image]\n",
    "print(len(set(zips)))"
   ]
  },
  {
   "cell_type": "code",
   "execution_count": 23,
   "metadata": {},
   "outputs": [],
   "source": [
    "base_path = \"/mnt/cephfs/mir/jcaicedo/morphem/dataset/images/\"\n",
    "\n",
    "abs_zips = [os.path.join(base_path, zipfile.split('-')[0], zipfile) for zipfile in set(zips)]"
   ]
  },
  {
   "cell_type": "code",
   "execution_count": 25,
   "metadata": {},
   "outputs": [],
   "source": [
    "with open('./medium_chammi_zips.txt', 'w') as f:\n",
    "    f.write('\\n'.join(sorted(abs_zips)))"
   ]
  }
 ],
 "metadata": {
  "kernelspec": {
   "display_name": "Python 3",
   "language": "python",
   "name": "python3"
  },
  "language_info": {
   "codemirror_mode": {
    "name": "ipython",
    "version": 3
   },
   "file_extension": ".py",
   "mimetype": "text/x-python",
   "name": "python",
   "nbconvert_exporter": "python",
   "pygments_lexer": "ipython3",
   "version": "3.10.15"
  }
 },
 "nbformat": 4,
 "nbformat_minor": 2
}
