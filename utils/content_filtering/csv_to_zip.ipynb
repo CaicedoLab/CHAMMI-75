{
 "cells": [
  {
   "cell_type": "code",
   "execution_count": 2,
   "metadata": {},
   "outputs": [],
   "source": [
    "import csv\n",
    "from zipfile import ZipFile\n",
    "import os\n",
    "import safetensors\n",
    "import io\n",
    "import torch\n",
    "import polars as pl\n",
    "from tqdm import tqdm\n",
    "from safetensors.torch import save, load"
   ]
  },
  {
   "cell_type": "code",
   "execution_count": 3,
   "metadata": {},
   "outputs": [],
   "source": [
    "dataset = ZipFile('/scr/data/CHAMMIv2m.zip')"
   ]
  },
  {
   "cell_type": "code",
   "execution_count": 4,
   "metadata": {},
   "outputs": [],
   "source": [
    "zip_image_paths = [file for file in dataset.infolist() if not file.is_dir() and file.filename.endswith('png')]"
   ]
  },
  {
   "cell_type": "code",
   "execution_count": 5,
   "metadata": {},
   "outputs": [],
   "source": [
    "base_path = '/home/MORGRIDGE/jpeters/dataset/sampling/content_filtering/v2/'\n",
    "dataset_root_dir = os.path.abspath(os.path.expanduser('~/dataset/sampling/content_filtering/v2/'))\n",
    "image_paths = []\n",
    "for dirpath, dirnames, filenames in os.walk(os.path.abspath(os.path.expanduser(dataset_root_dir))):\n",
    "    image_paths.extend([os.path.join(dirpath, filename) for filename in filenames if 'csv' in filename])"
   ]
  },
  {
   "cell_type": "code",
   "execution_count": 6,
   "metadata": {},
   "outputs": [],
   "source": [
    "# output_dir = '/scr/jpeters/content_filtering'\n",
    "# output_zip_path = os.path.join(output_dir, 'test.zip')\n",
    "# mem_buff = io.BytesIO()\n",
    "# with ZipFile(mem_buff, 'w') as out_zip:\n",
    "#     for image_path in tqdm(image_paths, desc=\"Processing Images\"):\n",
    "#         content_filters = pl.read_csv(image_path)\n",
    "#         for idx, image in enumerate(content_filters.iter_rows(named=False)):\n",
    "#             path_as_list = [int(item) for item in [image[-3], image[-2], *image[-1].split(':')]]\n",
    "#             tensor = {\"data\":torch.asarray(path_as_list)}\n",
    "#             bytes_safetensor = save(tensor)\n",
    "            \n",
    "#             im_zip_path = os.path.join('CHAMMIv2m', image[2], image[1].replace('.zip', ''), image[0].replace('.png', '.safetensors'))\n",
    "#             out_zip.writestr(zinfo_or_arcname=im_zip_path, data=bytes_safetensor)\n",
    "# with open(output_zip_path, 'wb') as f:\n",
    "#     f.write(mem_buff.getvalue())    "
   ]
  },
  {
   "cell_type": "code",
   "execution_count": 7,
   "metadata": {},
   "outputs": [],
   "source": [
    "test_zip = ZipFile('/scr/jpeters/content_filtering/test.zip')"
   ]
  },
  {
   "cell_type": "code",
   "execution_count": 8,
   "metadata": {},
   "outputs": [],
   "source": [
    "test_paths = [file for file in test_zip.infolist() if not file.is_dir() and file.filename.endswith('safetensors')]"
   ]
  },
  {
   "cell_type": "code",
   "execution_count": 9,
   "metadata": {},
   "outputs": [
    {
     "name": "stdout",
     "output_type": "stream",
     "text": [
      "tensor([ 32,  32, 215,  87, 111,  30,  86, 139, 199, 155,  25, 153, 109, 129,\n",
      "        162, 188,  26, 110, 113, 141,   1,   5,  13, 125, 192,   0, 152, 183,\n",
      "        189, 191, 201,  62, 193, 241, 168, 178,  12,  78, 225, 240,  29,  63,\n",
      "         61, 182, 175, 179, 224, 163, 198, 128,  28, 112, 204,  94])\n"
     ]
    }
   ],
   "source": [
    "for file in zip_image_paths:\n",
    "    if 'idr' in file.filename:\n",
    "        patch_info_path = file.filename.replace('.png', '.safetensors')\n",
    "        with test_zip.open(patch_info_path) as f:\n",
    "            tensor = load(f.read())\n",
    "            print(tensor['data'])\n",
    "    else:\n",
    "        continue\n",
    "    break"
   ]
  },
  {
   "cell_type": "code",
   "execution_count": 10,
   "metadata": {},
   "outputs": [
    {
     "data": {
      "text/plain": [
       "(2217068, 3215060)"
      ]
     },
     "execution_count": 10,
     "metadata": {},
     "output_type": "execute_result"
    }
   ],
   "source": [
    "len(test_paths), len(zip_image_paths) # 37,377,265 vs 3,215,060"
   ]
  }
 ],
 "metadata": {
  "kernelspec": {
   "display_name": "Python 3",
   "language": "python",
   "name": "python3"
  },
  "language_info": {
   "codemirror_mode": {
    "name": "ipython",
    "version": 3
   },
   "file_extension": ".py",
   "mimetype": "text/x-python",
   "name": "python",
   "nbconvert_exporter": "python",
   "pygments_lexer": "ipython3",
   "version": "3.10.15"
  }
 },
 "nbformat": 4,
 "nbformat_minor": 2
}
