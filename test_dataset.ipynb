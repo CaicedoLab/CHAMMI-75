{
 "cells": [
  {
   "cell_type": "code",
   "execution_count": 2,
   "id": "4de03939",
   "metadata": {},
   "outputs": [],
   "source": [
    "import polars as pl\n",
    "import os"
   ]
  },
  {
   "cell_type": "code",
   "execution_count": 3,
   "id": "3297e31a",
   "metadata": {},
   "outputs": [],
   "source": [
    "df = pl.read_csv(os.path.expanduser('~/scratch/CHAMMI/multi_channel_chammi_metadata.csv'))"
   ]
  },
  {
   "cell_type": "code",
   "execution_count": 9,
   "id": "c217dce4",
   "metadata": {},
   "outputs": [],
   "source": [
    "channel_types = []\n",
    "for path, id, chan in df.iter_rows():\n",
    "    if \"Allen\" in path:\n",
    "        channel_type = f\"allen_{chan}\"\n",
    "    if \"HPA\" in path:\n",
    "        channel_type = f\"hpa_{chan}\"\n",
    "    if \"CP\" in path:\n",
    "        channel_type = f\"cp_{chan}\"\n",
    "    \n",
    "    channel_types.append(channel_type)"
   ]
  },
  {
   "cell_type": "code",
   "execution_count": 11,
   "id": "57758c10",
   "metadata": {},
   "outputs": [],
   "source": [
    "df = df.with_columns(pl.Series(\"imaging.channel_type\", channel_types))"
   ]
  },
  {
   "cell_type": "code",
   "execution_count": 13,
   "id": "5eea4a07",
   "metadata": {},
   "outputs": [],
   "source": [
    "df.write_csv('~/vault/morphem/dataset/sampling/multi_channel_chammi_metadata.csv')"
   ]
  },
  {
   "cell_type": "code",
   "execution_count": 14,
   "id": "598132c4",
   "metadata": {},
   "outputs": [
    {
     "data": {
      "text/html": [
       "<div><style>\n",
       ".dataframe > thead > tr,\n",
       ".dataframe > tbody > tr {\n",
       "  text-align: right;\n",
       "  white-space: pre-wrap;\n",
       "}\n",
       "</style>\n",
       "<small>shape: (5, 4)</small><table border=\"1\" class=\"dataframe\"><thead><tr><th>storage.path</th><th>imaging.multi_channel_id</th><th>imaging.channel</th><th>imaging.channel_type</th></tr><tr><td>str</td><td>str</td><td>i64</td><td>str</td></tr></thead><tbody><tr><td>&quot;single_channels_train/Allen/cr…</td><td>&quot;llen/crops/230741.ome&quot;</td><td>0</td><td>&quot;allen_0&quot;</td></tr><tr><td>&quot;single_channels_train/Allen/cr…</td><td>&quot;llen/crops/230741.ome&quot;</td><td>1</td><td>&quot;allen_1&quot;</td></tr><tr><td>&quot;single_channels_train/Allen/cr…</td><td>&quot;llen/crops/230741.ome&quot;</td><td>2</td><td>&quot;allen_2&quot;</td></tr><tr><td>&quot;single_channels_train/Allen/cr…</td><td>&quot;llen/crops/230746.ome&quot;</td><td>0</td><td>&quot;allen_0&quot;</td></tr><tr><td>&quot;single_channels_train/Allen/cr…</td><td>&quot;llen/crops/230746.ome&quot;</td><td>1</td><td>&quot;allen_1&quot;</td></tr></tbody></table></div>"
      ],
      "text/plain": [
       "shape: (5, 4)\n",
       "┌──────────────────────────────┬──────────────────────────┬─────────────────┬──────────────────────┐\n",
       "│ storage.path                 ┆ imaging.multi_channel_id ┆ imaging.channel ┆ imaging.channel_type │\n",
       "│ ---                          ┆ ---                      ┆ ---             ┆ ---                  │\n",
       "│ str                          ┆ str                      ┆ i64             ┆ str                  │\n",
       "╞══════════════════════════════╪══════════════════════════╪═════════════════╪══════════════════════╡\n",
       "│ single_channels_train/Allen/ ┆ llen/crops/230741.ome    ┆ 0               ┆ allen_0              │\n",
       "│ cr…                          ┆                          ┆                 ┆                      │\n",
       "│ single_channels_train/Allen/ ┆ llen/crops/230741.ome    ┆ 1               ┆ allen_1              │\n",
       "│ cr…                          ┆                          ┆                 ┆                      │\n",
       "│ single_channels_train/Allen/ ┆ llen/crops/230741.ome    ┆ 2               ┆ allen_2              │\n",
       "│ cr…                          ┆                          ┆                 ┆                      │\n",
       "│ single_channels_train/Allen/ ┆ llen/crops/230746.ome    ┆ 0               ┆ allen_0              │\n",
       "│ cr…                          ┆                          ┆                 ┆                      │\n",
       "│ single_channels_train/Allen/ ┆ llen/crops/230746.ome    ┆ 1               ┆ allen_1              │\n",
       "│ cr…                          ┆                          ┆                 ┆                      │\n",
       "└──────────────────────────────┴──────────────────────────┴─────────────────┴──────────────────────┘"
      ]
     },
     "execution_count": 14,
     "metadata": {},
     "output_type": "execute_result"
    }
   ],
   "source": [
    "pl.read_csv('~/vault/morphem/dataset/sampling/multi_channel_chammi_metadata.csv').head()"
   ]
  }
 ],
 "metadata": {
  "kernelspec": {
   "display_name": "weakly-supervised",
   "language": "python",
   "name": "python3"
  },
  "language_info": {
   "codemirror_mode": {
    "name": "ipython",
    "version": 3
   },
   "file_extension": ".py",
   "mimetype": "text/x-python",
   "name": "python",
   "nbconvert_exporter": "python",
   "pygments_lexer": "ipython3",
   "version": "3.11.9"
  }
 },
 "nbformat": 4,
 "nbformat_minor": 5
}
