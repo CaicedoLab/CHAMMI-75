{
 "cells": [
  {
   "cell_type": "code",
   "execution_count": 1,
   "id": "4de03939",
   "metadata": {},
   "outputs": [],
   "source": [
    "from dataset import dataset_config\n",
    "from dataset import dataset\n",
    "from torch.utils.data import DataLoader"
   ]
  },
  {
   "cell_type": "code",
   "execution_count": 2,
   "id": "70690802",
   "metadata": {},
   "outputs": [],
   "source": [
    "config = dataset_config.DatasetConfig('~/scratch/CHAMMI/chammi_train.zip', dataset_config='~/scratch/CHAMMI/multi_channel_chammi_metadata.csv')\n",
    "config.dataset_size = \"lol\"\n",
    "ds = dataset.MultiChannelDataset(config)\n",
    "dl = DataLoader(ds, worker_init_fn=ds.worker_init_fn, batch_size=128, num_workers=8)"
   ]
  },
  {
   "cell_type": "code",
   "execution_count": 3,
   "id": "c4a1aac9",
   "metadata": {},
   "outputs": [
    {
     "name": "stdout",
     "output_type": "stream",
     "text": [
      "['single_channels_train/CP/crops/LINCS/SQ00015117/J18/5/129@805.65359375x504.85875-ch0.png', 'single_channels_train/CP/crops/LINCS/SQ00015117/J18/5/129@805.65359375x504.85875-ch1.png', 'single_channels_train/CP/crops/LINCS/SQ00015117/J18/5/129@805.65359375x504.85875-ch2.png', 'single_channels_train/CP/crops/LINCS/SQ00015117/J18/5/129@805.65359375x504.85875-ch3.png', 'single_channels_train/CP/crops/LINCS/SQ00015117/J18/5/129@805.65359375x504.85875-ch4.png']\n",
      "['single_channels_train/CP/crops/LINCS/SQ00015117/J18/5/129@805.65359375x504.85875-ch0.png', 'single_channels_train/CP/crops/LINCS/SQ00015117/J18/5/129@805.65359375x504.85875-ch1.png', 'single_channels_train/CP/crops/LINCS/SQ00015117/J18/5/129@805.65359375x504.85875-ch2.png', 'single_channels_train/CP/crops/LINCS/SQ00015117/J18/5/129@805.65359375x504.85875-ch3.png', 'single_channels_train/CP/crops/LINCS/SQ00015117/J18/5/129@805.65359375x504.85875-ch4.png']\n",
      "['single_channels_train/CP/crops/LINCS/SQ00015117/J18/5/129@805.65359375x504.85875-ch0.png', 'single_channels_train/CP/crops/LINCS/SQ00015117/J18/5/129@805.65359375x504.85875-ch1.png', 'single_channels_train/CP/crops/LINCS/SQ00015117/J18/5/129@805.65359375x504.85875-ch2.png', 'single_channels_train/CP/crops/LINCS/SQ00015117/J18/5/129@805.65359375x504.85875-ch3.png', 'single_channels_train/CP/crops/LINCS/SQ00015117/J18/5/129@805.65359375x504.85875-ch4.png']\n",
      "['single_channels_train/CP/crops/LINCS/SQ00015117/J18/5/129@805.65359375x504.85875-ch0.png', 'single_channels_train/CP/crops/LINCS/SQ00015117/J18/5/129@805.65359375x504.85875-ch1.png', 'single_channels_train/CP/crops/LINCS/SQ00015117/J18/5/129@805.65359375x504.85875-ch2.png', 'single_channels_train/CP/crops/LINCS/SQ00015117/J18/5/129@805.65359375x504.85875-ch3.png', 'single_channels_train/CP/crops/LINCS/SQ00015117/J18/5/129@805.65359375x504.85875-ch4.png']\n",
      "['single_channels_train/CP/crops/LINCS/SQ00015117/J18/5/129@805.65359375x504.85875-ch0.png', 'single_channels_train/CP/crops/LINCS/SQ00015117/J18/5/129@805.65359375x504.85875-ch1.png', 'single_channels_train/CP/crops/LINCS/SQ00015117/J18/5/129@805.65359375x504.85875-ch2.png', 'single_channels_train/CP/crops/LINCS/SQ00015117/J18/5/129@805.65359375x504.85875-ch3.png', 'single_channels_train/CP/crops/LINCS/SQ00015117/J18/5/129@805.65359375x504.85875-ch4.png']\n",
      "['single_channels_train/CP/crops/LINCS/SQ00015117/J18/5/129@805.65359375x504.85875-ch0.png', 'single_channels_train/CP/crops/LINCS/SQ00015117/J18/5/129@805.65359375x504.85875-ch1.png', 'single_channels_train/CP/crops/LINCS/SQ00015117/J18/5/129@805.65359375x504.85875-ch2.png', 'single_channels_train/CP/crops/LINCS/SQ00015117/J18/5/129@805.65359375x504.85875-ch3.png', 'single_channels_train/CP/crops/LINCS/SQ00015117/J18/5/129@805.65359375x504.85875-ch4.png']\n",
      "['single_channels_train/CP/crops/LINCS/SQ00015117/J18/5/129@805.65359375x504.85875-ch0.png', 'single_channels_train/CP/crops/LINCS/SQ00015117/J18/5/129@805.65359375x504.85875-ch1.png', 'single_channels_train/CP/crops/LINCS/SQ00015117/J18/5/129@805.65359375x504.85875-ch2.png', 'single_channels_train/CP/crops/LINCS/SQ00015117/J18/5/129@805.65359375x504.85875-ch3.png', 'single_channels_train/CP/crops/LINCS/SQ00015117/J18/5/129@805.65359375x504.85875-ch4.png']\n",
      "['single_channels_train/CP/crops/LINCS/SQ00015117/J18/5/129@805.65359375x504.85875-ch0.png', 'single_channels_train/CP/crops/LINCS/SQ00015117/J18/5/129@805.65359375x504.85875-ch1.png', 'single_channels_train/CP/crops/LINCS/SQ00015117/J18/5/129@805.65359375x504.85875-ch2.png', 'single_channels_train/CP/crops/LINCS/SQ00015117/J18/5/129@805.65359375x504.85875-ch3.png', 'single_channels_train/CP/crops/LINCS/SQ00015117/J18/5/129@805.65359375x504.85875-ch4.png']\n"
     ]
    },
    {
     "ename": "RuntimeError",
     "evalue": "Caught RuntimeError in DataLoader worker process 0.\nOriginal Traceback (most recent call last):\n  File \"/home/MORGRIDGE/jpeters/jpeters/miniconda3/envs/weakly-supervised/lib/python3.11/site-packages/torch/utils/data/_utils/worker.py\", line 351, in _worker_loop\n    data = fetcher.fetch(index)  # type: ignore[possibly-undefined]\n           ^^^^^^^^^^^^^^^^^^^^\n  File \"/home/MORGRIDGE/jpeters/jpeters/miniconda3/envs/weakly-supervised/lib/python3.11/site-packages/torch/utils/data/_utils/fetch.py\", line 43, in fetch\n    return self.collate_fn(data)\n           ^^^^^^^^^^^^^^^^^^^^^\n  File \"/home/MORGRIDGE/jpeters/jpeters/miniconda3/envs/weakly-supervised/lib/python3.11/site-packages/torch/utils/data/_utils/collate.py\", line 398, in default_collate\n    return collate(batch, collate_fn_map=default_collate_fn_map)\n           ^^^^^^^^^^^^^^^^^^^^^^^^^^^^^^^^^^^^^^^^^^^^^^^^^^^^^\n  File \"/home/MORGRIDGE/jpeters/jpeters/miniconda3/envs/weakly-supervised/lib/python3.11/site-packages/torch/utils/data/_utils/collate.py\", line 155, in collate\n    return collate_fn_map[elem_type](batch, collate_fn_map=collate_fn_map)\n           ^^^^^^^^^^^^^^^^^^^^^^^^^^^^^^^^^^^^^^^^^^^^^^^^^^^^^^^^^^^^^^^\n  File \"/home/MORGRIDGE/jpeters/jpeters/miniconda3/envs/weakly-supervised/lib/python3.11/site-packages/torch/utils/data/_utils/collate.py\", line 272, in collate_tensor_fn\n    return torch.stack(batch, 0, out=out)\n           ^^^^^^^^^^^^^^^^^^^^^^^^^^^^^^\nRuntimeError: stack expects each tensor to be equal size, but got [5, 160, 160] at entry 0 and [3, 238, 374] at entry 2\n",
     "output_type": "error",
     "traceback": [
      "\u001b[31m---------------------------------------------------------------------------\u001b[39m",
      "\u001b[31mRuntimeError\u001b[39m                              Traceback (most recent call last)",
      "\u001b[36mCell\u001b[39m\u001b[36m \u001b[39m\u001b[32mIn[3]\u001b[39m\u001b[32m, line 1\u001b[39m\n\u001b[32m----> \u001b[39m\u001b[32m1\u001b[39m \u001b[38;5;28;43;01mfor\u001b[39;49;00m\u001b[43m \u001b[49m\u001b[43mbatch\u001b[49m\u001b[43m \u001b[49m\u001b[38;5;129;43;01min\u001b[39;49;00m\u001b[43m \u001b[49m\u001b[43mdl\u001b[49m\u001b[43m:\u001b[49m\n\u001b[32m      2\u001b[39m \u001b[43m    \u001b[49m\u001b[38;5;28;43mprint\u001b[39;49m\u001b[43m(\u001b[49m\u001b[43mbatch\u001b[49m\u001b[43m.\u001b[49m\u001b[43mshape\u001b[49m\u001b[43m)\u001b[49m\n",
      "\u001b[36mFile \u001b[39m\u001b[32m~/jpeters/miniconda3/envs/weakly-supervised/lib/python3.11/site-packages/torch/utils/data/dataloader.py:701\u001b[39m, in \u001b[36m_BaseDataLoaderIter.__next__\u001b[39m\u001b[34m(self)\u001b[39m\n\u001b[32m    698\u001b[39m \u001b[38;5;28;01mif\u001b[39;00m \u001b[38;5;28mself\u001b[39m._sampler_iter \u001b[38;5;129;01mis\u001b[39;00m \u001b[38;5;28;01mNone\u001b[39;00m:\n\u001b[32m    699\u001b[39m     \u001b[38;5;66;03m# TODO(https://github.com/pytorch/pytorch/issues/76750)\u001b[39;00m\n\u001b[32m    700\u001b[39m     \u001b[38;5;28mself\u001b[39m._reset()  \u001b[38;5;66;03m# type: ignore[call-arg]\u001b[39;00m\n\u001b[32m--> \u001b[39m\u001b[32m701\u001b[39m data = \u001b[38;5;28;43mself\u001b[39;49m\u001b[43m.\u001b[49m\u001b[43m_next_data\u001b[49m\u001b[43m(\u001b[49m\u001b[43m)\u001b[49m\n\u001b[32m    702\u001b[39m \u001b[38;5;28mself\u001b[39m._num_yielded += \u001b[32m1\u001b[39m\n\u001b[32m    703\u001b[39m \u001b[38;5;28;01mif\u001b[39;00m (\n\u001b[32m    704\u001b[39m     \u001b[38;5;28mself\u001b[39m._dataset_kind == _DatasetKind.Iterable\n\u001b[32m    705\u001b[39m     \u001b[38;5;129;01mand\u001b[39;00m \u001b[38;5;28mself\u001b[39m._IterableDataset_len_called \u001b[38;5;129;01mis\u001b[39;00m \u001b[38;5;129;01mnot\u001b[39;00m \u001b[38;5;28;01mNone\u001b[39;00m\n\u001b[32m    706\u001b[39m     \u001b[38;5;129;01mand\u001b[39;00m \u001b[38;5;28mself\u001b[39m._num_yielded > \u001b[38;5;28mself\u001b[39m._IterableDataset_len_called\n\u001b[32m    707\u001b[39m ):\n",
      "\u001b[36mFile \u001b[39m\u001b[32m~/jpeters/miniconda3/envs/weakly-supervised/lib/python3.11/site-packages/torch/utils/data/dataloader.py:1465\u001b[39m, in \u001b[36m_MultiProcessingDataLoaderIter._next_data\u001b[39m\u001b[34m(self)\u001b[39m\n\u001b[32m   1463\u001b[39m \u001b[38;5;28;01melse\u001b[39;00m:\n\u001b[32m   1464\u001b[39m     \u001b[38;5;28;01mdel\u001b[39;00m \u001b[38;5;28mself\u001b[39m._task_info[idx]\n\u001b[32m-> \u001b[39m\u001b[32m1465\u001b[39m     \u001b[38;5;28;01mreturn\u001b[39;00m \u001b[38;5;28;43mself\u001b[39;49m\u001b[43m.\u001b[49m\u001b[43m_process_data\u001b[49m\u001b[43m(\u001b[49m\u001b[43mdata\u001b[49m\u001b[43m)\u001b[49m\n",
      "\u001b[36mFile \u001b[39m\u001b[32m~/jpeters/miniconda3/envs/weakly-supervised/lib/python3.11/site-packages/torch/utils/data/dataloader.py:1491\u001b[39m, in \u001b[36m_MultiProcessingDataLoaderIter._process_data\u001b[39m\u001b[34m(self, data)\u001b[39m\n\u001b[32m   1489\u001b[39m \u001b[38;5;28mself\u001b[39m._try_put_index()\n\u001b[32m   1490\u001b[39m \u001b[38;5;28;01mif\u001b[39;00m \u001b[38;5;28misinstance\u001b[39m(data, ExceptionWrapper):\n\u001b[32m-> \u001b[39m\u001b[32m1491\u001b[39m     \u001b[43mdata\u001b[49m\u001b[43m.\u001b[49m\u001b[43mreraise\u001b[49m\u001b[43m(\u001b[49m\u001b[43m)\u001b[49m\n\u001b[32m   1492\u001b[39m \u001b[38;5;28;01mreturn\u001b[39;00m data\n",
      "\u001b[36mFile \u001b[39m\u001b[32m~/jpeters/miniconda3/envs/weakly-supervised/lib/python3.11/site-packages/torch/_utils.py:715\u001b[39m, in \u001b[36mExceptionWrapper.reraise\u001b[39m\u001b[34m(self)\u001b[39m\n\u001b[32m    711\u001b[39m \u001b[38;5;28;01mexcept\u001b[39;00m \u001b[38;5;167;01mTypeError\u001b[39;00m:\n\u001b[32m    712\u001b[39m     \u001b[38;5;66;03m# If the exception takes multiple arguments, don't try to\u001b[39;00m\n\u001b[32m    713\u001b[39m     \u001b[38;5;66;03m# instantiate since we don't know how to\u001b[39;00m\n\u001b[32m    714\u001b[39m     \u001b[38;5;28;01mraise\u001b[39;00m \u001b[38;5;167;01mRuntimeError\u001b[39;00m(msg) \u001b[38;5;28;01mfrom\u001b[39;00m\u001b[38;5;250m \u001b[39m\u001b[38;5;28;01mNone\u001b[39;00m\n\u001b[32m--> \u001b[39m\u001b[32m715\u001b[39m \u001b[38;5;28;01mraise\u001b[39;00m exception\n",
      "\u001b[31mRuntimeError\u001b[39m: Caught RuntimeError in DataLoader worker process 0.\nOriginal Traceback (most recent call last):\n  File \"/home/MORGRIDGE/jpeters/jpeters/miniconda3/envs/weakly-supervised/lib/python3.11/site-packages/torch/utils/data/_utils/worker.py\", line 351, in _worker_loop\n    data = fetcher.fetch(index)  # type: ignore[possibly-undefined]\n           ^^^^^^^^^^^^^^^^^^^^\n  File \"/home/MORGRIDGE/jpeters/jpeters/miniconda3/envs/weakly-supervised/lib/python3.11/site-packages/torch/utils/data/_utils/fetch.py\", line 43, in fetch\n    return self.collate_fn(data)\n           ^^^^^^^^^^^^^^^^^^^^^\n  File \"/home/MORGRIDGE/jpeters/jpeters/miniconda3/envs/weakly-supervised/lib/python3.11/site-packages/torch/utils/data/_utils/collate.py\", line 398, in default_collate\n    return collate(batch, collate_fn_map=default_collate_fn_map)\n           ^^^^^^^^^^^^^^^^^^^^^^^^^^^^^^^^^^^^^^^^^^^^^^^^^^^^^\n  File \"/home/MORGRIDGE/jpeters/jpeters/miniconda3/envs/weakly-supervised/lib/python3.11/site-packages/torch/utils/data/_utils/collate.py\", line 155, in collate\n    return collate_fn_map[elem_type](batch, collate_fn_map=collate_fn_map)\n           ^^^^^^^^^^^^^^^^^^^^^^^^^^^^^^^^^^^^^^^^^^^^^^^^^^^^^^^^^^^^^^^\n  File \"/home/MORGRIDGE/jpeters/jpeters/miniconda3/envs/weakly-supervised/lib/python3.11/site-packages/torch/utils/data/_utils/collate.py\", line 272, in collate_tensor_fn\n    return torch.stack(batch, 0, out=out)\n           ^^^^^^^^^^^^^^^^^^^^^^^^^^^^^^\nRuntimeError: stack expects each tensor to be equal size, but got [5, 160, 160] at entry 0 and [3, 238, 374] at entry 2\n"
     ]
    }
   ],
   "source": [
    "for batch in dl:\n",
    "    print(batch.shape)"
   ]
  },
  {
   "cell_type": "code",
   "execution_count": null,
   "id": "e7829c47",
   "metadata": {},
   "outputs": [
    {
     "data": {
      "text/plain": [
       "torch.Size([3, 3, 238, 374])"
      ]
     },
     "execution_count": 8,
     "metadata": {},
     "output_type": "execute_result"
    }
   ],
   "source": [
    "test_sample.shape"
   ]
  }
 ],
 "metadata": {
  "kernelspec": {
   "display_name": "weakly-supervised",
   "language": "python",
   "name": "python3"
  },
  "language_info": {
   "codemirror_mode": {
    "name": "ipython",
    "version": 3
   },
   "file_extension": ".py",
   "mimetype": "text/x-python",
   "name": "python",
   "nbconvert_exporter": "python",
   "pygments_lexer": "ipython3",
   "version": "3.11.9"
  }
 },
 "nbformat": 4,
 "nbformat_minor": 5
}
