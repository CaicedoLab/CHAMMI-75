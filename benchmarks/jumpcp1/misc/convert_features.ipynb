{
 "cells": [
  {
   "cell_type": "code",
   "execution_count": null,
   "metadata": {},
   "outputs": [],
   "source": [
    "import pandas as pd\n",
    "import os\n",
    "import pycytominer"
   ]
  },
  {
   "cell_type": "code",
   "execution_count": null,
   "metadata": {},
   "outputs": [],
   "source": [
    "# CellProfiler profiles can be found in /scr/nmoshkov/jump_evaluation_fbm or in CellPainting Gallery AWS\n",
    "all_plates = os.listdir('./cellprofiler_profiles/2020_11_04_CPJUMP1')\n",
    "groups = []\n",
    "for plate in all_plates:\n",
    "    groups.append(pd.read_csv(f'./cellprofiler_profiles/2020_11_04_CPJUMP1/{plate}/{plate}_spherized.csv.gz')['Metadata_Plate'].unique())\n",
    "\n",
    "groups = [list(x) for x in set(tuple(x) for x in groups)]"
   ]
  },
  {
   "cell_type": "code",
   "execution_count": null,
   "metadata": {},
   "outputs": [],
   "source": [
    "# Normalize DeepProfiler CP-CNN features \n",
    "\n",
    "feature_columns = ['emb_' + str(i) for i in range(672)] # 672 - feature vector size\n",
    "\n",
    "for group in groups:\n",
    "    group_df = pd.DataFrame()\n",
    "    for plate in group:\n",
    "        cellprofiler_plate = pd.read_csv(f'./cellprofiler_profiles/2020_11_04_CPJUMP1/{plate}/{plate}_normalized_feature_select_negcon_batch.csv.gz')\n",
    "        cellprofiler_plate = cellprofiler_plate[[i for i in cellprofiler_plate.columns if 'Metadata' in i]]\n",
    "        deepprofiler_plate = pd.read_parquet(f'./cpcnn_profiles/2020_11_04_CPJUMP1/{plate}/{plate}.parquet')\n",
    "        deepprofiler_plate = pd.merge(cellprofiler_plate, deepprofiler_plate, how = 'left', left_on=['Metadata_Plate', 'Metadata_Well'], right_on = ['plate', 'well']).reset_index(drop=True)\n",
    "        deepprofiler_plate.drop(columns = ['source', 'batch', 'plate', 'well'], inplace = True)\n",
    "        deepprofiler_plate = pd.concat([deepprofiler_plate.drop(columns=['all_emb']), deepprofiler_plate['all_emb'].apply(pd.Series)], axis=1).reset_index(drop = True)\n",
    "        deepprofiler_plate.rename(columns = dict(zip([i for i in range(672)], feature_columns)), inplace = True, errors='raise')\n",
    "        deepprofiler_plate.to_csv(f'./cpcnn_profiles/2020_11_04_CPJUMP1/{plate}/{plate}_raw.csv.gz', compression='gzip', index = False)\n",
    "        group_df = pd.concat((group_df, deepprofiler_plate)).reset_index(drop = True)\n",
    "    \n",
    "    normalized_df = pycytominer.normalize(group_df, features = feature_columns, meta_features = 'infer', method = 'spherize', spherize_epsilon = 1e-3, samples = \"Metadata_control_type == 'negcon'\")\n",
    "    for plate in normalized_df.Metadata_Plate.unique():\n",
    "        to_save = normalized_df[normalized_df.Metadata_Plate == plate].reset_index(drop = True)\n",
    "        to_save.to_csv(f'./cpcnn_profiles/2020_11_04_CPJUMP1/{plate}/{plate}_group_spherized_0.001.csv.gz', compression='gzip', index = False)\n"
   ]
  },
  {
   "cell_type": "code",
   "execution_count": null,
   "metadata": {},
   "outputs": [],
   "source": [
    "# Normalize DINO4Cells features\n",
    "feature_columns = ['emb_' + str(i) for i in range(384)] # 384 - feature vector size\n",
    "\n",
    "for group in groups:\n",
    "    group_df = pd.DataFrame()\n",
    "    for plate in group:\n",
    "        cellprofiler_plate = pd.read_csv(f'./cellprofiler_profiles/2020_11_04_CPJUMP1/{plate}/{plate}_normalized_feature_select_negcon_batch.csv.gz')\n",
    "        cellprofiler_plate = cellprofiler_plate[[i for i in cellprofiler_plate.columns if 'Metadata' in i]]\n",
    "        dino_plate = pd.read_parquet(f'./dino4cells/2020_11_04_CPJUMP1/{plate}/{plate}.parquet')\n",
    "        dino_plate = pd.merge(cellprofiler_plate, dino_plate, how = 'left', left_on=['Metadata_Plate', 'Metadata_Well'], right_on = ['plate', 'well']).reset_index(drop=True)\n",
    "        dino_plate.drop(columns = ['source', 'batch', 'plate', 'well'], inplace = True)\n",
    "        dino_plate.to_csv(f'./dino4cells/2020_11_04_CPJUMP1/{plate}/{plate}_raw.csv.gz', compression='gzip', index = False)\n",
    "        group_df = pd.concat((group_df, dino_plate)).reset_index(drop = True)\n",
    "    \n",
    "    normalized_df = pycytominer.normalize(group_df, features = feature_columns, meta_features = 'infer', method = 'spherize', spherize_epsilon = 1e-3, samples = \"Metadata_control_type == 'negcon'\")\n",
    "    for plate in normalized_df.Metadata_Plate.unique():\n",
    "        to_save = normalized_df[normalized_df.Metadata_Plate == plate].reset_index(drop = True)\n",
    "        to_save.to_csv(f'./dino4cells/2020_11_04_CPJUMP1/{plate}/{plate}_group_spherized_0.001.csv.gz', compression='gzip', index = False)\n"
   ]
  },
  {
   "cell_type": "markdown",
   "metadata": {},
   "source": []
  }
 ],
 "metadata": {
  "kernelspec": {
   "display_name": "Python 3",
   "language": "python",
   "name": "python3"
  },
  "language_info": {
   "codemirror_mode": {
    "name": "ipython",
    "version": 3
   },
   "file_extension": ".py",
   "mimetype": "text/x-python",
   "name": "python",
   "nbconvert_exporter": "python",
   "pygments_lexer": "ipython3",
   "version": "3.10.16"
  }
 },
 "nbformat": 4,
 "nbformat_minor": 2
}
